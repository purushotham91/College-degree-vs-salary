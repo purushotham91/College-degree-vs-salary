{
  "nbformat": 4,
  "nbformat_minor": 0,
  "metadata": {
    "colab": {
      "name": "Untitled0.ipynb",
      "provenance": [],
      "toc_visible": true,
      "authorship_tag": "ABX9TyOoXIENAWuwVncaNkX7idYC",
      "include_colab_link": true
    },
    "kernelspec": {
      "name": "python3",
      "display_name": "Python 3"
    },
    "language_info": {
      "name": "python"
    }
  },
  "cells": [
    {
      "cell_type": "markdown",
      "metadata": {
        "id": "view-in-github",
        "colab_type": "text"
      },
      "source": [
        "<a href=\"https://colab.research.google.com/github/purushotham91/College-degree-vs-salary/blob/main/Untitled0.ipynb\" target=\"_parent\"><img src=\"https://colab.research.google.com/assets/colab-badge.svg\" alt=\"Open In Colab\"/></a>"
      ]
    },
    {
      "cell_type": "code",
      "metadata": {
        "id": "HQOw-1YFlLb2",
        "colab": {
          "base_uri": "https://localhost:8080/",
          "height": 204
        },
        "outputId": "6f2a691f-86e6-4aa1-b7e8-61207b9c2571"
      },
      "source": [
        "import pandas as pd\n",
        "\n",
        "df = pd.read_csv(\"salaries_by_college_major.csv\")\n",
        "clean_df = df.dropna()\n",
        "clean_df.tail()"
      ],
      "execution_count": 7,
      "outputs": [
        {
          "output_type": "execute_result",
          "data": {
            "text/html": [
              "<div>\n",
              "<style scoped>\n",
              "    .dataframe tbody tr th:only-of-type {\n",
              "        vertical-align: middle;\n",
              "    }\n",
              "\n",
              "    .dataframe tbody tr th {\n",
              "        vertical-align: top;\n",
              "    }\n",
              "\n",
              "    .dataframe thead th {\n",
              "        text-align: right;\n",
              "    }\n",
              "</style>\n",
              "<table border=\"1\" class=\"dataframe\">\n",
              "  <thead>\n",
              "    <tr style=\"text-align: right;\">\n",
              "      <th></th>\n",
              "      <th>Undergraduate Major</th>\n",
              "      <th>Starting Median Salary</th>\n",
              "      <th>Mid-Career Median Salary</th>\n",
              "      <th>Mid-Career 10th Percentile Salary</th>\n",
              "      <th>Mid-Career 90th Percentile Salary</th>\n",
              "      <th>Group</th>\n",
              "    </tr>\n",
              "  </thead>\n",
              "  <tbody>\n",
              "    <tr>\n",
              "      <th>45</th>\n",
              "      <td>Political Science</td>\n",
              "      <td>40800.0</td>\n",
              "      <td>78200.0</td>\n",
              "      <td>41200.0</td>\n",
              "      <td>168000.0</td>\n",
              "      <td>HASS</td>\n",
              "    </tr>\n",
              "    <tr>\n",
              "      <th>46</th>\n",
              "      <td>Psychology</td>\n",
              "      <td>35900.0</td>\n",
              "      <td>60400.0</td>\n",
              "      <td>31600.0</td>\n",
              "      <td>127000.0</td>\n",
              "      <td>HASS</td>\n",
              "    </tr>\n",
              "    <tr>\n",
              "      <th>47</th>\n",
              "      <td>Religion</td>\n",
              "      <td>34100.0</td>\n",
              "      <td>52000.0</td>\n",
              "      <td>29700.0</td>\n",
              "      <td>96400.0</td>\n",
              "      <td>HASS</td>\n",
              "    </tr>\n",
              "    <tr>\n",
              "      <th>48</th>\n",
              "      <td>Sociology</td>\n",
              "      <td>36500.0</td>\n",
              "      <td>58200.0</td>\n",
              "      <td>30700.0</td>\n",
              "      <td>118000.0</td>\n",
              "      <td>HASS</td>\n",
              "    </tr>\n",
              "    <tr>\n",
              "      <th>49</th>\n",
              "      <td>Spanish</td>\n",
              "      <td>34000.0</td>\n",
              "      <td>53100.0</td>\n",
              "      <td>31000.0</td>\n",
              "      <td>96400.0</td>\n",
              "      <td>HASS</td>\n",
              "    </tr>\n",
              "  </tbody>\n",
              "</table>\n",
              "</div>"
            ],
            "text/plain": [
              "   Undergraduate Major  ...  Group\n",
              "45   Political Science  ...   HASS\n",
              "46          Psychology  ...   HASS\n",
              "47            Religion  ...   HASS\n",
              "48           Sociology  ...   HASS\n",
              "49             Spanish  ...   HASS\n",
              "\n",
              "[5 rows x 6 columns]"
            ]
          },
          "metadata": {},
          "execution_count": 7
        }
      ]
    },
    {
      "cell_type": "markdown",
      "metadata": {
        "id": "e-rofxD6z4lM"
      },
      "source": [
        "Challanges:\n",
        "\n",
        "What college major has the highest mid-career salary? How much do graduates with this major earn? (Mid-career is defined as having 10+ years of experience).\n",
        "\n",
        "Which college major has the lowest starting salary and how much do graduates earn after university?\n",
        "\n",
        "Which college major has the lowest mid-career salary and how much can people expect to earn with this degree? *italicized text*"
      ]
    },
    {
      "cell_type": "code",
      "metadata": {
        "id": "8-HmNtLdz5JD"
      },
      "source": [
        "# print(clean_df[\"Mid-Career Median Salary\"].max())\n",
        "# print(f\"The index of the max mid career salary: {clean_df['Mid-Career Median Salary'].idxmax()}\") #8\n",
        "# print(clean_df[\"Undergraduate Major\"][8]) #Chemical Engeneering\n",
        "\n",
        "# print(clean_df[\"Starting Median Salary\"].min())\n",
        "# print(f\"Index: {clean_df['Starting Median Salary'].idxmin()}\") #49\n",
        "# print(clean_df[\"Undergraduate Major\"][49])\n",
        "\n",
        "# print(clean_df['Mid-Career Median Salary'].min())\n",
        "# print(clean_df['Starting Median Salary'][clean_df['Mid-Career Median Salary'].idxmin()])"
      ],
      "execution_count": 28,
      "outputs": []
    },
    {
      "cell_type": "markdown",
      "metadata": {
        "id": "qlTuWA2r4S6D"
      },
      "source": [
        "Sorting Values & Adding Columns: Majors with the most potential vs Lowest risk\n",
        "\n",
        "Spread Value determining the risk in major\n",
        "(A low-risk major is a degree where there is a small difference between the lowest and highest salaries. In other words, if the difference between the 10th percentile and the 90th percentile earnings of your major is small, then you can be more certain about your salary after you graduate.)\n"
      ]
    },
    {
      "cell_type": "code",
      "metadata": {
        "id": "bQTY9bwB4f68"
      },
      "source": [
        "spread_col = clean_df[\"Mid-Career 90th Percentile Salary\"] - clean_df[\"Mid-Career 10th Percentile Salary\"]\n",
        "clean_df.insert(1,\"Spread\",spread_col)"
      ],
      "execution_count": null,
      "outputs": []
    },
    {
      "cell_type": "markdown",
      "metadata": {
        "id": "k7Xr1iZA2kxR"
      },
      "source": [
        "\n",
        "\n",
        "Using the .sort_values() method, can you find the degrees with the highest potential? Find the top 5 degrees with the highest values in the 90th percentile. "
      ]
    },
    {
      "cell_type": "code",
      "metadata": {
        "colab": {
          "base_uri": "https://localhost:8080/",
          "height": 204
        },
        "id": "fXjTYDh_2wA5",
        "outputId": "1d15a051-fcbd-42f5-e383-1f16d37f31f9"
      },
      "source": [
        "# Majors With highest potential\n",
        "# highest_potential = clean_df.sort_values('Mid-Career 90th Percentile Salary',ascending=False)\n",
        "# highest_potential[['Undergraduate Major','Mid-Career 90th Percentile Salary']].head()\n"
      ],
      "execution_count": 27,
      "outputs": [
        {
          "output_type": "execute_result",
          "data": {
            "text/html": [
              "<div>\n",
              "<style scoped>\n",
              "    .dataframe tbody tr th:only-of-type {\n",
              "        vertical-align: middle;\n",
              "    }\n",
              "\n",
              "    .dataframe tbody tr th {\n",
              "        vertical-align: top;\n",
              "    }\n",
              "\n",
              "    .dataframe thead th {\n",
              "        text-align: right;\n",
              "    }\n",
              "</style>\n",
              "<table border=\"1\" class=\"dataframe\">\n",
              "  <thead>\n",
              "    <tr style=\"text-align: right;\">\n",
              "      <th></th>\n",
              "      <th>Undergraduate Major</th>\n",
              "      <th>Mid-Career 90th Percentile Salary</th>\n",
              "    </tr>\n",
              "  </thead>\n",
              "  <tbody>\n",
              "    <tr>\n",
              "      <th>17</th>\n",
              "      <td>Economics</td>\n",
              "      <td>210000.0</td>\n",
              "    </tr>\n",
              "    <tr>\n",
              "      <th>22</th>\n",
              "      <td>Finance</td>\n",
              "      <td>195000.0</td>\n",
              "    </tr>\n",
              "    <tr>\n",
              "      <th>8</th>\n",
              "      <td>Chemical Engineering</td>\n",
              "      <td>194000.0</td>\n",
              "    </tr>\n",
              "    <tr>\n",
              "      <th>37</th>\n",
              "      <td>Math</td>\n",
              "      <td>183000.0</td>\n",
              "    </tr>\n",
              "    <tr>\n",
              "      <th>44</th>\n",
              "      <td>Physics</td>\n",
              "      <td>178000.0</td>\n",
              "    </tr>\n",
              "  </tbody>\n",
              "</table>\n",
              "</div>"
            ],
            "text/plain": [
              "     Undergraduate Major  Mid-Career 90th Percentile Salary\n",
              "17             Economics                           210000.0\n",
              "22               Finance                           195000.0\n",
              "8   Chemical Engineering                           194000.0\n",
              "37                  Math                           183000.0\n",
              "44               Physics                           178000.0"
            ]
          },
          "metadata": {},
          "execution_count": 27
        }
      ]
    },
    {
      "cell_type": "markdown",
      "metadata": {
        "id": "NHRH1Hqj5DPZ"
      },
      "source": [
        "Majors with Greates Spread which means highest risk."
      ]
    },
    {
      "cell_type": "code",
      "metadata": {
        "colab": {
          "base_uri": "https://localhost:8080/",
          "height": 204
        },
        "id": "iYbq9Q085KcR",
        "outputId": "0c90f544-4c83-452c-ccc1-90e1e5b081ae"
      },
      "source": [
        "greatest_spread = clean_df.sort_values(\"Spread\",ascending=False)\n",
        "greatest_spread[[\"Undergraduate Major\",\"Spread\"]].head()"
      ],
      "execution_count": 33,
      "outputs": [
        {
          "output_type": "execute_result",
          "data": {
            "text/html": [
              "<div>\n",
              "<style scoped>\n",
              "    .dataframe tbody tr th:only-of-type {\n",
              "        vertical-align: middle;\n",
              "    }\n",
              "\n",
              "    .dataframe tbody tr th {\n",
              "        vertical-align: top;\n",
              "    }\n",
              "\n",
              "    .dataframe thead th {\n",
              "        text-align: right;\n",
              "    }\n",
              "</style>\n",
              "<table border=\"1\" class=\"dataframe\">\n",
              "  <thead>\n",
              "    <tr style=\"text-align: right;\">\n",
              "      <th></th>\n",
              "      <th>Undergraduate Major</th>\n",
              "      <th>Spread</th>\n",
              "    </tr>\n",
              "  </thead>\n",
              "  <tbody>\n",
              "    <tr>\n",
              "      <th>17</th>\n",
              "      <td>Economics</td>\n",
              "      <td>159400.0</td>\n",
              "    </tr>\n",
              "    <tr>\n",
              "      <th>22</th>\n",
              "      <td>Finance</td>\n",
              "      <td>147800.0</td>\n",
              "    </tr>\n",
              "    <tr>\n",
              "      <th>37</th>\n",
              "      <td>Math</td>\n",
              "      <td>137800.0</td>\n",
              "    </tr>\n",
              "    <tr>\n",
              "      <th>36</th>\n",
              "      <td>Marketing</td>\n",
              "      <td>132900.0</td>\n",
              "    </tr>\n",
              "    <tr>\n",
              "      <th>42</th>\n",
              "      <td>Philosophy</td>\n",
              "      <td>132500.0</td>\n",
              "    </tr>\n",
              "  </tbody>\n",
              "</table>\n",
              "</div>"
            ],
            "text/plain": [
              "   Undergraduate Major    Spread\n",
              "17           Economics  159400.0\n",
              "22             Finance  147800.0\n",
              "37                Math  137800.0\n",
              "36           Marketing  132900.0\n",
              "42          Philosophy  132500.0"
            ]
          },
          "metadata": {},
          "execution_count": 33
        }
      ]
    },
    {
      "cell_type": "markdown",
      "metadata": {
        "id": "XQFmplLp5xtr"
      },
      "source": [
        "Grouping based on category of degrees"
      ]
    },
    {
      "cell_type": "code",
      "metadata": {
        "colab": {
          "base_uri": "https://localhost:8080/",
          "height": 173
        },
        "id": "XbkCxcXN54qO",
        "outputId": "68428260-4003-459a-fdd3-bd428c013f3b"
      },
      "source": [
        "pd.options.display.float_format = '{:,.2f}'.format\n",
        "\n",
        "grouped_df = clean_df.groupby(\"Group\").mean()\n",
        "grouped_df.sort_values(\"Mid-Career 90th Percentile Salary\",ascending=False)\n",
        "\n"
      ],
      "execution_count": 38,
      "outputs": [
        {
          "output_type": "execute_result",
          "data": {
            "text/html": [
              "<div>\n",
              "<style scoped>\n",
              "    .dataframe tbody tr th:only-of-type {\n",
              "        vertical-align: middle;\n",
              "    }\n",
              "\n",
              "    .dataframe tbody tr th {\n",
              "        vertical-align: top;\n",
              "    }\n",
              "\n",
              "    .dataframe thead th {\n",
              "        text-align: right;\n",
              "    }\n",
              "</style>\n",
              "<table border=\"1\" class=\"dataframe\">\n",
              "  <thead>\n",
              "    <tr style=\"text-align: right;\">\n",
              "      <th></th>\n",
              "      <th>Spread</th>\n",
              "      <th>Starting Median Salary</th>\n",
              "      <th>Mid-Career Median Salary</th>\n",
              "      <th>Mid-Career 10th Percentile Salary</th>\n",
              "      <th>Mid-Career 90th Percentile Salary</th>\n",
              "    </tr>\n",
              "    <tr>\n",
              "      <th>Group</th>\n",
              "      <th></th>\n",
              "      <th></th>\n",
              "      <th></th>\n",
              "      <th></th>\n",
              "      <th></th>\n",
              "    </tr>\n",
              "  </thead>\n",
              "  <tbody>\n",
              "    <tr>\n",
              "      <th>STEM</th>\n",
              "      <td>101,600.00</td>\n",
              "      <td>53,862.50</td>\n",
              "      <td>90,812.50</td>\n",
              "      <td>56,025.00</td>\n",
              "      <td>157,625.00</td>\n",
              "    </tr>\n",
              "    <tr>\n",
              "      <th>Business</th>\n",
              "      <td>103,958.33</td>\n",
              "      <td>44,633.33</td>\n",
              "      <td>75,083.33</td>\n",
              "      <td>43,566.67</td>\n",
              "      <td>147,525.00</td>\n",
              "    </tr>\n",
              "    <tr>\n",
              "      <th>HASS</th>\n",
              "      <td>95,218.18</td>\n",
              "      <td>37,186.36</td>\n",
              "      <td>62,968.18</td>\n",
              "      <td>34,145.45</td>\n",
              "      <td>129,363.64</td>\n",
              "    </tr>\n",
              "  </tbody>\n",
              "</table>\n",
              "</div>"
            ],
            "text/plain": [
              "             Spread  ...  Mid-Career 90th Percentile Salary\n",
              "Group                ...                                   \n",
              "STEM     101,600.00  ...                         157,625.00\n",
              "Business 103,958.33  ...                         147,525.00\n",
              "HASS      95,218.18  ...                         129,363.64\n",
              "\n",
              "[3 rows x 5 columns]"
            ]
          },
          "metadata": {},
          "execution_count": 38
        }
      ]
    }
  ]
}